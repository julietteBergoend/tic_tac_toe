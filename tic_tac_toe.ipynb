{
 "cells": [
  {
   "cell_type": "markdown",
   "metadata": {},
   "source": [
    "# Tic Tac Toe / Jeu du morpion\n",
    "\n",
    "Here is a simple *tic tac toe game* using pandas.\n",
    "\n",
    "Functionalities: switch players, check if the cell is empty or not, don't forget the diagonals of the table... \n",
    "\n",
    "Next step is the tic tac toe with machine learning ! "
   ]
  },
  {
   "cell_type": "code",
   "execution_count": 1,
   "metadata": {},
   "outputs": [],
   "source": [
    "import pandas as pd\n",
    "\n",
    "# Checks if the cell you just filled is complete or not\n",
    "# Inputs : the column or row number the player entered, a boolean, the current player\n",
    "# Output : boolean True or False depending on the result\n",
    "def check_cols_rows(col_or_row, winner, player):    \n",
    "    \n",
    "    # get the list of signs of the col or row and set it\n",
    "    set_sign_list = set([i for i in col_or_row])\n",
    "    \n",
    "    # if the set has a len of one, \n",
    "    # the col or row is probably full\n",
    "    if len(set_sign_list) == 1:\n",
    "        # check if column is filled with a sign\n",
    "        for i in set_sign_list:\n",
    "            if i == 'x':\n",
    "                winner = True\n",
    "            elif i == 'o':\n",
    "                winner = True\n",
    "            # the column is filled with NaN \n",
    "            else:\n",
    "                winner = False\n",
    "    else:\n",
    "        winner = False   \n",
    "    return winner\n",
    "    "
   ]
  },
  {
   "cell_type": "code",
   "execution_count": 2,
   "metadata": {},
   "outputs": [],
   "source": [
    "# Tells who the winner is\n",
    "def print_winner(player):\n",
    "    print(u'###########END###########')\n",
    "    print(player, u'is the winner !!')\n",
    "    print(u'#########################')"
   ]
  },
  {
   "cell_type": "code",
   "execution_count": 3,
   "metadata": {},
   "outputs": [],
   "source": [
    "# Full game\n",
    "# Displays an input function where the players enter the cell references (row, col)\n",
    "# Inputs : a list of 2 strings (names of the players), a table\n",
    "def play(players, table):\n",
    "    winner = False\n",
    "    \n",
    "    while winner != True:\n",
    "        \n",
    "        # switch users at each loop\n",
    "        for i in players:\n",
    "            player = i\n",
    "            row = input(player + u\" chooses a row : \")\n",
    "            col = input(player + u\" chooses a column : \")\n",
    "            \n",
    "            # assign a sign to the players\n",
    "            if player == players[0]:\n",
    "                sign = 'x'\n",
    "            if player == players[1]:\n",
    "                sign = 'o'\n",
    "            \n",
    "            # fill the table with the sign at position (row, col) chosen by the player\n",
    "            if table.at[row, col] != 'x' or table.at[row, col] != 'o' :\n",
    "                table.at[row, col] = sign\n",
    "            # check if the cell is not full\n",
    "            else:\n",
    "                print('Please choose an other cell, this one is not empty\\n')\n",
    "                row = input(player + u\" chooses an other row : \")\n",
    "                col = input(player + u\" chooses an other column : \")\n",
    "                table.at[row, col] = sign\n",
    "\n",
    "            # check if the entire row or entire column is full or not\n",
    "            # if True, we have a winner !\n",
    "            if check_cols_rows(table[col], winner, player) == True:\n",
    "                winner = True\n",
    "                print_winner(player)\n",
    "            if check_cols_rows(table.loc[[row]].values[0], winner, player) == True:\n",
    "                winner = True\n",
    "                print_winner(player)\n",
    "\n",
    "            # check if the diagonals of the table are full or not\n",
    "            if table.at['d1','D1'] == sign and table.at['d2','D2'] == sign and table.at['d3', 'D3'] == sign:\n",
    "                winner = True \n",
    "            if table.at['d1','D3']== sign and table.at['d2','D2']== sign and table.at['d3', 'D1']== sign:\n",
    "                winner = True\n",
    "\n",
    "            # table updated\n",
    "            print(table)\n",
    "\n",
    "            if winner == True :\n",
    "                print_winner(player)\n",
    "                break"
   ]
  },
  {
   "cell_type": "code",
   "execution_count": 4,
   "metadata": {},
   "outputs": [
    {
     "name": "stdout",
     "output_type": "stream",
     "text": [
      "Player 1 : Platy\n",
      "Player 2 : Kwaki\n",
      "\n",
      "Here is the empty table:\n",
      "\n",
      "     D1   D2   D3\n",
      "d1  NaN  NaN  NaN\n",
      "d2  NaN  NaN  NaN\n",
      "d3  NaN  NaN  NaN\n",
      "\n",
      "\n",
      "Platy  plays with x\n",
      "Kwaki  plays with o\n"
     ]
    }
   ],
   "source": [
    "# game table 3x3\n",
    "table = pd.DataFrame(index=['d'+str(i+1) for i in range(0,3)], columns=['D'+str(i+1) for i in range(0,3)])\n",
    "\n",
    "# players\n",
    "player1 = input(u'Player 1 : ')\n",
    "player2 = input(u'Player 2 : ')\n",
    "players = [player1, player2]\n",
    "\n",
    "print(u'\\nHere is the empty table:\\n')\n",
    "print(table)\n",
    "print('\\n')\n",
    "print(player1, u' plays with x')\n",
    "print(player2, u' plays with o')"
   ]
  },
  {
   "cell_type": "code",
   "execution_count": 5,
   "metadata": {},
   "outputs": [
    {
     "name": "stdout",
     "output_type": "stream",
     "text": [
      "Platy chooses a row : d1\n",
      "Platy chooses a column : D1\n",
      "     D1   D2   D3\n",
      "d1    x  NaN  NaN\n",
      "d2  NaN  NaN  NaN\n",
      "d3  NaN  NaN  NaN\n",
      "Kwaki chooses a row : d3\n",
      "Kwaki chooses a column : D1\n",
      "     D1   D2   D3\n",
      "d1    x  NaN  NaN\n",
      "d2  NaN  NaN  NaN\n",
      "d3    o  NaN  NaN\n",
      "Platy chooses a row : d2\n",
      "Platy chooses a column : D2\n",
      "     D1   D2   D3\n",
      "d1    x  NaN  NaN\n",
      "d2  NaN    x  NaN\n",
      "d3    o  NaN  NaN\n",
      "Kwaki chooses a row : d2\n",
      "Kwaki chooses a column : D1\n",
      "   D1   D2   D3\n",
      "d1  x  NaN  NaN\n",
      "d2  o    x  NaN\n",
      "d3  o  NaN  NaN\n",
      "Platy chooses a row : d3\n",
      "Platy chooses a column : D3\n",
      "   D1   D2   D3\n",
      "d1  x  NaN  NaN\n",
      "d2  o    x  NaN\n",
      "d3  o  NaN    x\n",
      "###########END###########\n",
      "Platy is the winner !!\n",
      "#########################\n"
     ]
    }
   ],
   "source": [
    "play(players, table)"
   ]
  },
  {
   "cell_type": "code",
   "execution_count": null,
   "metadata": {},
   "outputs": [],
   "source": []
  }
 ],
 "metadata": {
  "kernelspec": {
   "display_name": "Python 3",
   "language": "python",
   "name": "python3"
  },
  "language_info": {
   "codemirror_mode": {
    "name": "ipython",
    "version": 3
   },
   "file_extension": ".py",
   "mimetype": "text/x-python",
   "name": "python",
   "nbconvert_exporter": "python",
   "pygments_lexer": "ipython3",
   "version": "3.6.9"
  }
 },
 "nbformat": 4,
 "nbformat_minor": 2
}
